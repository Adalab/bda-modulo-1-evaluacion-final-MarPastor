{
 "cells": [
  {
   "cell_type": "code",
   "execution_count": null,
   "id": "f73b7573",
   "metadata": {},
   "outputs": [],
   "source": [
    "# buscar producto\n",
    "\n",
    "def search_product(name): # una funcion que busca un producto y tiene 'nombre' de parametro\n",
    "    found = False\n",
    "    for product in inventory: # busca en los diccionarios de la lista\n",
    "        if product['name'] == name.capitalize(): # si esta condicion se cumple, corre el codigo y si pone en mayuscula la primera letra\n",
    "            print(f'Name: {product['name']}, Price: ${product['price']}, Stock: {product['stock']}')\n",
    "            found = True\n",
    "    if not found:\n",
    "        print('The product does not exist')"
   ]
  },
  {
   "cell_type": "code",
   "execution_count": 9,
   "id": "6733ec15",
   "metadata": {},
   "outputs": [
    {
     "name": "stdout",
     "output_type": "stream",
     "text": [
      "{'name': 'pepe', 'price': 1, 'stock': 20}\n"
     ]
    }
   ],
   "source": [
    "# pasos para actualizar el stock (diccionario definido) // prueba de codigo\n",
    "\n",
    "producto2 = {'name': 'pepe', 'price': 1, 'stock': 10}\n",
    "clave_actualizar = 'stock' \n",
    "valor_sumar = 10 # el valor que va a tomar la funcion\n",
    "\n",
    "if clave_actualizar in producto2: # si la clave esta en el diccionario\n",
    "    producto2[clave_actualizar] += valor_sumar # toma el valor de la clave y le suma el valor de la funcion\n",
    "else: # de lo contrario, si no esta la clave\n",
    "    producto2[clave_actualizar] = valor_sumar # agrega la clave al diccionario con el valor que toma de la funcion\n",
    "\n",
    "print(producto2)"
   ]
  },
  {
   "cell_type": "code",
   "execution_count": null,
   "id": "8e7fba24",
   "metadata": {},
   "outputs": [
    {
     "name": "stdout",
     "output_type": "stream",
     "text": [
      "215\n"
     ]
    }
   ],
   "source": [
    "# calcular total \n",
    "inventory2 = [{'name': 'shirt', 'price': 10, 'stock': 5}, {'name': 'trouser', 'price': 20, 'stock': 3}, {'name': 'pants', 'price': 15, 'stock': 7}]\n",
    "suma_total = sum((d['price'] * d['stock']) for d in inventory2)\n",
    "print(suma_total)"
   ]
  },
  {
   "cell_type": "code",
   "execution_count": 32,
   "id": "a487ddd3",
   "metadata": {},
   "outputs": [
    {
     "ename": "TypeError",
     "evalue": "'int' object is not iterable",
     "output_type": "error",
     "traceback": [
      "\u001b[1;31m---------------------------------------------------------------------------\u001b[0m",
      "\u001b[1;31mTypeError\u001b[0m                                 Traceback (most recent call last)",
      "Cell \u001b[1;32mIn[32], line 3\u001b[0m\n\u001b[0;32m      1\u001b[0m inventory2 \u001b[38;5;241m=\u001b[39m [{\u001b[38;5;124m'\u001b[39m\u001b[38;5;124mname\u001b[39m\u001b[38;5;124m'\u001b[39m: \u001b[38;5;124m'\u001b[39m\u001b[38;5;124mshirt\u001b[39m\u001b[38;5;124m'\u001b[39m, \u001b[38;5;124m'\u001b[39m\u001b[38;5;124mprice\u001b[39m\u001b[38;5;124m'\u001b[39m: \u001b[38;5;241m10\u001b[39m, \u001b[38;5;124m'\u001b[39m\u001b[38;5;124mstock\u001b[39m\u001b[38;5;124m'\u001b[39m: \u001b[38;5;241m5\u001b[39m}, {\u001b[38;5;124m'\u001b[39m\u001b[38;5;124mname\u001b[39m\u001b[38;5;124m'\u001b[39m: \u001b[38;5;124m'\u001b[39m\u001b[38;5;124mtrouser\u001b[39m\u001b[38;5;124m'\u001b[39m, \u001b[38;5;124m'\u001b[39m\u001b[38;5;124mprice\u001b[39m\u001b[38;5;124m'\u001b[39m: \u001b[38;5;241m20\u001b[39m, \u001b[38;5;124m'\u001b[39m\u001b[38;5;124mstock\u001b[39m\u001b[38;5;124m'\u001b[39m: \u001b[38;5;241m3\u001b[39m}, {\u001b[38;5;124m'\u001b[39m\u001b[38;5;124mname\u001b[39m\u001b[38;5;124m'\u001b[39m: \u001b[38;5;124m'\u001b[39m\u001b[38;5;124mpants\u001b[39m\u001b[38;5;124m'\u001b[39m, \u001b[38;5;124m'\u001b[39m\u001b[38;5;124mprice\u001b[39m\u001b[38;5;124m'\u001b[39m: \u001b[38;5;241m15\u001b[39m, \u001b[38;5;124m'\u001b[39m\u001b[38;5;124mstock\u001b[39m\u001b[38;5;124m'\u001b[39m: \u001b[38;5;241m7\u001b[39m}]\n\u001b[0;32m      2\u001b[0m \u001b[38;5;28;01mfor\u001b[39;00m producto \u001b[38;5;129;01min\u001b[39;00m inventory2:\n\u001b[1;32m----> 3\u001b[0m     total_value \u001b[38;5;241m=\u001b[39m \u001b[38;5;28msum\u001b[39m(producto[\u001b[38;5;124m'\u001b[39m\u001b[38;5;124mprice\u001b[39m\u001b[38;5;124m'\u001b[39m] \u001b[38;5;241m*\u001b[39m producto[\u001b[38;5;124m'\u001b[39m\u001b[38;5;124mstock\u001b[39m\u001b[38;5;124m'\u001b[39m])\n\u001b[0;32m      4\u001b[0m     \u001b[38;5;28mprint\u001b[39m(total_value)\n",
      "\u001b[1;31mTypeError\u001b[0m: 'int' object is not iterable"
     ]
    }
   ],
   "source": [
    "inventory2 = [{'name': 'shirt', 'price': 10, 'stock': 5}, {'name': 'trouser', 'price': 20, 'stock': 3}, {'name': 'pants', 'price': 15, 'stock': 7}]\n",
    "for producto in inventory2:\n",
    "    total_value = sum(producto['price'] * producto['stock'])\n",
    "    print(total_value)"
   ]
  },
  {
   "cell_type": "code",
   "execution_count": 33,
   "id": "6c44b4b7",
   "metadata": {},
   "outputs": [],
   "source": [
    "def calculate_total_inventory(): # una funcion que calcule el valor total de la variable global 'inventario'\n",
    "    for product in inventory:\n",
    "        total_product = 'stock'\n",
    "        total_price = 'price'\n",
    "        print(total_product * total_price)\n",
    "    return product"
   ]
  },
  {
   "cell_type": "code",
   "execution_count": 15,
   "id": "b9ccf8db",
   "metadata": {},
   "outputs": [
    {
     "name": "stdout",
     "output_type": "stream",
     "text": [
      "[{'name': 'shirt', 'price': 10, 'stock': 5}, {'name': 'pant', 'price': 10, 'stock': 0}]\n"
     ]
    }
   ],
   "source": [
    "inventory3 = [{'name': 'shirt', 'price': 10, 'stock': 5}, {'name': 'pant', 'price': 10, 'stock': 0}]\n",
    "\n",
    "for product in inventory3:\n",
    "    if product['stock'] != 0:\n",
    "        print(inventory3)"
   ]
  },
  {
   "cell_type": "code",
   "execution_count": null,
   "id": "baa2743e",
   "metadata": {},
   "outputs": [
    {
     "name": "stdout",
     "output_type": "stream",
     "text": [
      "{'name': 'pant', 'price': 10, 'stock': 0}\n"
     ]
    }
   ],
   "source": [
    "# bucle para que el cliente agregue varios productos\n",
    "\n",
    "inventory3 = [{'name': 'shirt', 'price': 10, 'stock': 5}, {'name': 'pant', 'price': 10, 'stock': 10}]\n",
    "\n",
    "while product['stock'] != 0:\n",
    "    for product in inventory3:\n",
    "        product['stock'] -= 1\n",
    "print(product)\n"
   ]
  },
  {
   "cell_type": "code",
   "execution_count": null,
   "id": "fd55f27c",
   "metadata": {},
   "outputs": [
    {
     "name": "stdout",
     "output_type": "stream",
     "text": [
      "Carrito: \"2\" piezas de \"shirt\".\n"
     ]
    }
   ],
   "source": [
    "# hacer el carrito con el input\n",
    "\n",
    "for i in inventory3:\n",
    "    if i['stock'] != 0:\n",
    "        product_cliente = input('Que producto desea comprar de la lista?')\n",
    "        if i['name'] == product_cliente:\n",
    "            cantidad_cliente = input('Cuantos desea comprar?')\n",
    "            print(f'Carrito: \"{cantidad_cliente}\" piezas de \"{product_cliente}\".')\n",
    "        else:\n",
    "            print(f'There is not enough stock of \"{product_cliente}\".')\n",
    "        break"
   ]
  },
  {
   "cell_type": "code",
   "execution_count": null,
   "id": "190dbfa4",
   "metadata": {},
   "outputs": [],
   "source": [
    "# actualizar stock con input\n",
    "\n",
    "inventory3 = [{'name': 'shirt', 'price': 10, 'stock': 5}, {'name': 'pant', 'price': 10, 'stock': 0}]\n",
    "\n",
    "def realizar_compra():\n",
    "    producto1 = input('producto: ')\n",
    "    cantidad1 = int(input('cantidad: '))\n",
    "    for producto in inventory3:\n",
    "        if producto['name'] == producto1:\n",
    "            stock_update = 'stock'\n",
    "            new_stock = cantidad1\n",
    "            producto[stock_update] -= new_stock\n",
    "        return inventory3\n"
   ]
  },
  {
   "cell_type": "code",
   "execution_count": 59,
   "id": "0f8c69c8",
   "metadata": {},
   "outputs": [
    {
     "data": {
      "text/plain": [
       "[{'name': 'shirt', 'price': 10, 'stock': 4},\n",
       " {'name': 'pant', 'price': 10, 'stock': 0}]"
      ]
     },
     "execution_count": 59,
     "metadata": {},
     "output_type": "execute_result"
    }
   ],
   "source": [
    "realizar_compra()"
   ]
  },
  {
   "cell_type": "code",
   "execution_count": 69,
   "id": "ae582eb4",
   "metadata": {},
   "outputs": [],
   "source": [
    "# calcular el precio\n",
    "\n",
    "inventory3 = [{'name': 'shirt', 'price': 15, 'stock': 5}, {'name': 'pant', 'price': 10, 'stock': 0}]\n",
    "cantidad_quiere = 2\n",
    "\n",
    "def calcular_precio(name):\n",
    "    for producto in inventory3:\n",
    "        if producto['name'] == name:\n",
    "            precio = producto['price']\n",
    "            precio_total = precio * cantidad_quiere\n",
    "            print(f'El precio total es: ${precio_total}')"
   ]
  },
  {
   "cell_type": "code",
   "execution_count": 70,
   "id": "8adc8e5b",
   "metadata": {},
   "outputs": [
    {
     "name": "stdout",
     "output_type": "stream",
     "text": [
      "El precio total es: $30\n"
     ]
    }
   ],
   "source": [
    "calcular_precio('shirt')"
   ]
  },
  {
   "cell_type": "code",
   "execution_count": 1,
   "id": "929cabfe",
   "metadata": {},
   "outputs": [],
   "source": [
    "inventory4 = [{'name': 'shirt', 'price': 15, 'stock': 5}, {'name': 'pant', 'price': 10, 'stock': 10}, {'name': 'dress', 'price': 20, 'stock': 0}]\n",
    "\n",
    "def realizar_compra_final():\n",
    "# 1. usa bucle 'while' para varias compras, comprueba que haya stock\n",
    "    for product in inventory4:\n",
    "        while product['stock'] != 0:\n",
    "# 2. muestra inventario disponible\n",
    "            print(f'Name: {product['name']}, Price: ${product['price']}, Stock: {product['stock']}') # imprime cada clave con su valor\n",
    "# 3. solicita el nombre al cliente, y cantidad\n",
    "# 4. registra los datos en un carrito\n",
    "            product_cliente = input('Que producto de la lista desea comprar?')\n",
    "            if product['name'] == product_cliente:\n",
    "                if product['stock'] != 0:\n",
    "                    cantidad_cliente = int(input('Cuantos desea comprar?'))\n",
    "                    print(f'Carrito: \"{cantidad_cliente}\" piezas de \"{product_cliente}\".')\n",
    "# 5. actualiza el inventario e imprime el inventario actualizado\n",
    "                elif product['stock']:\n",
    "                    new_stock = cantidad_cliente\n",
    "                    product['stock'] -= new_stock\n",
    "# 6. calcula el costo total del carrito / compra       \n",
    "            if product['name'] == product_cliente:\n",
    "                precio = product['price']\n",
    "                precio_total = precio * cantidad_cliente\n",
    "                print(f'El precio total es: ${precio_total}')\n",
    "            else:\n",
    "                print(f'There is not enough stock of \"{product_cliente}\".')       \n",
    "# 7. imprime inventario actualizado despues de la compra\n",
    "        product['stock'] -= 1\n",
    "    return inventory4\n"
   ]
  },
  {
   "cell_type": "code",
   "execution_count": 83,
   "id": "eb5bb81f",
   "metadata": {},
   "outputs": [
    {
     "name": "stdout",
     "output_type": "stream",
     "text": [
      "Name: pant, Price: $10, Stock: -1\n",
      "Carrito: \"1\" piezas de \"pant\".\n",
      "El precio total es: $10\n",
      "Name: pant, Price: $10, Stock: -1\n",
      "There is not enough stock of \"\".\n",
      "Name: pant, Price: $10, Stock: -1\n"
     ]
    },
    {
     "ename": "KeyboardInterrupt",
     "evalue": "Interrupted by user",
     "output_type": "error",
     "traceback": [
      "\u001b[1;31m---------------------------------------------------------------------------\u001b[0m",
      "\u001b[1;31mKeyboardInterrupt\u001b[0m                         Traceback (most recent call last)",
      "Cell \u001b[1;32mIn[83], line 1\u001b[0m\n\u001b[1;32m----> 1\u001b[0m realizar_compra_final()\n",
      "Cell \u001b[1;32mIn[82], line 11\u001b[0m, in \u001b[0;36mrealizar_compra_final\u001b[1;34m()\u001b[0m\n\u001b[0;32m      8\u001b[0m             \u001b[38;5;28mprint\u001b[39m(\u001b[38;5;124mf\u001b[39m\u001b[38;5;124m'\u001b[39m\u001b[38;5;124mName: \u001b[39m\u001b[38;5;132;01m{\u001b[39;00mproduct[\u001b[38;5;124m'\u001b[39m\u001b[38;5;124mname\u001b[39m\u001b[38;5;124m'\u001b[39m]\u001b[38;5;132;01m}\u001b[39;00m\u001b[38;5;124m, Price: $\u001b[39m\u001b[38;5;132;01m{\u001b[39;00mproduct[\u001b[38;5;124m'\u001b[39m\u001b[38;5;124mprice\u001b[39m\u001b[38;5;124m'\u001b[39m]\u001b[38;5;132;01m}\u001b[39;00m\u001b[38;5;124m, Stock: \u001b[39m\u001b[38;5;132;01m{\u001b[39;00mproduct[\u001b[38;5;124m'\u001b[39m\u001b[38;5;124mstock\u001b[39m\u001b[38;5;124m'\u001b[39m]\u001b[38;5;132;01m}\u001b[39;00m\u001b[38;5;124m'\u001b[39m) \u001b[38;5;66;03m# imprime cada clave con su valor\u001b[39;00m\n\u001b[0;32m      9\u001b[0m \u001b[38;5;66;03m# 3. solicita el nombre al cliente, y cantidad\u001b[39;00m\n\u001b[0;32m     10\u001b[0m \u001b[38;5;66;03m# 4. registra los datos en un carrito\u001b[39;00m\n\u001b[1;32m---> 11\u001b[0m             product_cliente \u001b[38;5;241m=\u001b[39m \u001b[38;5;28minput\u001b[39m(\u001b[38;5;124m'\u001b[39m\u001b[38;5;124mQue producto de la lista desea comprar?\u001b[39m\u001b[38;5;124m'\u001b[39m)\n\u001b[0;32m     12\u001b[0m             \u001b[38;5;28;01mif\u001b[39;00m product[\u001b[38;5;124m'\u001b[39m\u001b[38;5;124mname\u001b[39m\u001b[38;5;124m'\u001b[39m] \u001b[38;5;241m==\u001b[39m product_cliente:\n\u001b[0;32m     13\u001b[0m                 \u001b[38;5;28;01mif\u001b[39;00m product[\u001b[38;5;124m'\u001b[39m\u001b[38;5;124mstock\u001b[39m\u001b[38;5;124m'\u001b[39m] \u001b[38;5;241m!=\u001b[39m \u001b[38;5;241m0\u001b[39m:\n",
      "File \u001b[1;32mc:\\Users\\maryl\\anaconda3\\Lib\\site-packages\\ipykernel\\kernelbase.py:1262\u001b[0m, in \u001b[0;36mKernel.raw_input\u001b[1;34m(self, prompt)\u001b[0m\n\u001b[0;32m   1260\u001b[0m     msg \u001b[38;5;241m=\u001b[39m \u001b[38;5;124m\"\u001b[39m\u001b[38;5;124mraw_input was called, but this frontend does not support input requests.\u001b[39m\u001b[38;5;124m\"\u001b[39m\n\u001b[0;32m   1261\u001b[0m     \u001b[38;5;28;01mraise\u001b[39;00m StdinNotImplementedError(msg)\n\u001b[1;32m-> 1262\u001b[0m \u001b[38;5;28;01mreturn\u001b[39;00m \u001b[38;5;28mself\u001b[39m\u001b[38;5;241m.\u001b[39m_input_request(\n\u001b[0;32m   1263\u001b[0m     \u001b[38;5;28mstr\u001b[39m(prompt),\n\u001b[0;32m   1264\u001b[0m     \u001b[38;5;28mself\u001b[39m\u001b[38;5;241m.\u001b[39m_parent_ident[\u001b[38;5;124m\"\u001b[39m\u001b[38;5;124mshell\u001b[39m\u001b[38;5;124m\"\u001b[39m],\n\u001b[0;32m   1265\u001b[0m     \u001b[38;5;28mself\u001b[39m\u001b[38;5;241m.\u001b[39mget_parent(\u001b[38;5;124m\"\u001b[39m\u001b[38;5;124mshell\u001b[39m\u001b[38;5;124m\"\u001b[39m),\n\u001b[0;32m   1266\u001b[0m     password\u001b[38;5;241m=\u001b[39m\u001b[38;5;28;01mFalse\u001b[39;00m,\n\u001b[0;32m   1267\u001b[0m )\n",
      "File \u001b[1;32mc:\\Users\\maryl\\anaconda3\\Lib\\site-packages\\ipykernel\\kernelbase.py:1305\u001b[0m, in \u001b[0;36mKernel._input_request\u001b[1;34m(self, prompt, ident, parent, password)\u001b[0m\n\u001b[0;32m   1302\u001b[0m \u001b[38;5;28;01mexcept\u001b[39;00m \u001b[38;5;167;01mKeyboardInterrupt\u001b[39;00m:\n\u001b[0;32m   1303\u001b[0m     \u001b[38;5;66;03m# re-raise KeyboardInterrupt, to truncate traceback\u001b[39;00m\n\u001b[0;32m   1304\u001b[0m     msg \u001b[38;5;241m=\u001b[39m \u001b[38;5;124m\"\u001b[39m\u001b[38;5;124mInterrupted by user\u001b[39m\u001b[38;5;124m\"\u001b[39m\n\u001b[1;32m-> 1305\u001b[0m     \u001b[38;5;28;01mraise\u001b[39;00m \u001b[38;5;167;01mKeyboardInterrupt\u001b[39;00m(msg) \u001b[38;5;28;01mfrom\u001b[39;00m \u001b[38;5;28;01mNone\u001b[39;00m\n\u001b[0;32m   1306\u001b[0m \u001b[38;5;28;01mexcept\u001b[39;00m \u001b[38;5;167;01mException\u001b[39;00m:\n\u001b[0;32m   1307\u001b[0m     \u001b[38;5;28mself\u001b[39m\u001b[38;5;241m.\u001b[39mlog\u001b[38;5;241m.\u001b[39mwarning(\u001b[38;5;124m\"\u001b[39m\u001b[38;5;124mInvalid Message:\u001b[39m\u001b[38;5;124m\"\u001b[39m, exc_info\u001b[38;5;241m=\u001b[39m\u001b[38;5;28;01mTrue\u001b[39;00m)\n",
      "\u001b[1;31mKeyboardInterrupt\u001b[0m: Interrupted by user"
     ]
    }
   ],
   "source": [
    "realizar_compra_final()"
   ]
  },
  {
   "cell_type": "markdown",
   "id": "e257065a",
   "metadata": {},
   "source": [
    "## OPCIONALES"
   ]
  },
  {
   "cell_type": "code",
   "execution_count": null,
   "id": "91a39db2",
   "metadata": {},
   "outputs": [],
   "source": [
    "# 8. procesar pago\n",
    "# usar un try...except para manejar excepciones\n",
    "# solicita al cliente la cantidad total con un input y cantidad de pago\n",
    "# calcula el cambio y muestra un mensaje de venta exitosa, o error en caso de monto insuficiente"
   ]
  },
  {
   "cell_type": "code",
   "execution_count": 75,
   "id": "586f28e0",
   "metadata": {},
   "outputs": [],
   "source": [
    "# 9. agregar clientes (diccionario)\n",
    "customers = {}\n",
    "\n",
    "def add_customer(customer_name, email, sales):\n",
    "    if customer_name not in customers: # verifica si el cliente con este nombre existe en la base de datos\n",
    "        customers[customer_name] = [email, sales]\n",
    "        sales += 1 # verificar si tiene ventas y agregar\n",
    "        print(f'The customer \"{customer_name}\" has been added successfully.')\n",
    "    else:\n",
    "        print(f'The customer \"{customer_name}\" already exists.') # si la comprobacion es falsa, imprime el mensaje"
   ]
  },
  {
   "cell_type": "code",
   "execution_count": 76,
   "id": "8eb0872a",
   "metadata": {},
   "outputs": [
    {
     "name": "stdout",
     "output_type": "stream",
     "text": [
      "The customer \"marta\" has been added successfully.\n"
     ]
    }
   ],
   "source": [
    "add_customer('marta', 'marta@gmail', 2) # pruebo el codigo, y las ventas se deben agregar"
   ]
  },
  {
   "cell_type": "code",
   "execution_count": 77,
   "id": "35481c97",
   "metadata": {},
   "outputs": [
    {
     "data": {
      "text/plain": [
       "{'marta': ['marta@gmail', 2]}"
      ]
     },
     "execution_count": 77,
     "metadata": {},
     "output_type": "execute_result"
    }
   ],
   "source": [
    "customers"
   ]
  },
  {
   "cell_type": "code",
   "execution_count": null,
   "id": "428530c5",
   "metadata": {},
   "outputs": [],
   "source": [
    "# 10. ver clientes\n",
    "# usar for para recorrer todos los items\n",
    "# imprime los detalles de cada cliente"
   ]
  },
  {
   "cell_type": "code",
   "execution_count": null,
   "id": "be4a41b8",
   "metadata": {},
   "outputs": [],
   "source": [
    "# 11. registra compra\n",
    "# actualiza las ventas totales y las agrega al historial del cliente\n",
    "# recibe el nombre y el carrito de compras como parametros\n",
    "# busca al cliente en la lista\n",
    "# si el cliente no esta registrado muestra un mensaje\n",
    "# calcula el total de la compra y registra la compra, incluyendo los productos y el total\n",
    "# ejemplo: carrito_cliente1 = {\"Camisa\": {\"precio\": 20, \"cantidad\": 3}} \n",
    "#          tienda.registrar_compra(\"Cliente1\", carrito_cliente1) "
   ]
  },
  {
   "cell_type": "code",
   "execution_count": null,
   "id": "1413d9ec",
   "metadata": {},
   "outputs": [],
   "source": [
    "# 12. ver compras cliente\n",
    "# muestra el historial de compras del cliente\n",
    "# busca el cliente en el diccionario\n",
    "# muestra las compras realizadas por el cliente, incluyendo detalles de producto y total"
   ]
  },
  {
   "cell_type": "code",
   "execution_count": null,
   "id": "0a8547e6",
   "metadata": {},
   "outputs": [],
   "source": [
    "# 13. calcula las ventas totales de la tienda\n",
    "# suma los totales de todas las compras realizadas y muestra el total"
   ]
  }
 ],
 "metadata": {
  "kernelspec": {
   "display_name": "base",
   "language": "python",
   "name": "python3"
  },
  "language_info": {
   "codemirror_mode": {
    "name": "ipython",
    "version": 3
   },
   "file_extension": ".py",
   "mimetype": "text/x-python",
   "name": "python",
   "nbconvert_exporter": "python",
   "pygments_lexer": "ipython3",
   "version": "3.12.7"
  }
 },
 "nbformat": 4,
 "nbformat_minor": 5
}
