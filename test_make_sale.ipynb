{
 "cells": [
  {
   "cell_type": "code",
   "execution_count": 38,
   "id": "db99cb04",
   "metadata": {},
   "outputs": [],
   "source": [
    "inventory4 = [{'name': 'shirt', 'price': 15, 'stock': 5}, {'name': 'pant', 'price': 10, 'stock': 0}, {'name': 'dress', 'price': 20, 'stock': 10}]\n",
    "\n",
    "def realizar_compra_final():\n",
    "# 1. usa bucle 'while' para varias compras, comprueba que haya stock\n",
    "    for product in inventory4: # definir diccionario local que itera con el inventario\n",
    "        while product['stock'] != 0: # el loop no esta cumpliendo esta condicion\n",
    "# 2. muestra inventario disponible\n",
    "            print(f'Hay {product['stock']} piezas de \"{product['name']}\"') # imprime toda la lista // revisar: imprime todos los diccionarios incluyendo con stock '0'\n",
    "# 3. solicita el nombre al cliente, y cantidad\n",
    "# 4. registra los datos en un carrito\n",
    "            if product['stock'] != 0: # si hay stock en los productos\n",
    "                product_cliente = input('Que producto de la lista desea comprar?') # pregunta al cliente que decida el producto\n",
    "                if product['name'] == product_cliente: # busca el diccionario donde coincida la entrada del usuario\n",
    "                    cantidad_cliente = int(input('Cuantos desea comprar?')) # guarda la entrada del usuario en una variable local\n",
    "                    print(f'Carrito: \"{cantidad_cliente}\" piezas de \"{product_cliente}\".') \n",
    "# 5. actualiza el inventario e imprime el inventario actualizado\n",
    "                if product['stock'] != 0: # verifica si hay stock y actualizar el stock\n",
    "                    new_stock = cantidad_cliente \n",
    "                    product['stock'] -= new_stock # elimina del stock la cantidad que compro el usuario\n",
    "# 6. calcula el costo total del carrito / compra       \n",
    "                if product['name'] == product_cliente: # con la variable del producto escogido por el usuario calculamos la compra\n",
    "                    precio = product['price'] \n",
    "                    precio_total = precio * cantidad_cliente\n",
    "                    print(f'El precio total es: ${precio_total}')\n",
    "            else:\n",
    "                print(f'There is not enough stock of \"{product_cliente}\".')       \n",
    "# 7. imprime inventario actualizado despues de la compra\n",
    "        return"
   ]
  },
  {
   "cell_type": "code",
   "execution_count": 39,
   "id": "ad7ae4f2",
   "metadata": {},
   "outputs": [
    {
     "name": "stdout",
     "output_type": "stream",
     "text": [
      "Hay 5 piezas de \"shirt\"\n",
      "Carrito: \"5\" piezas de \"shirt\".\n",
      "El precio total es: $75\n"
     ]
    }
   ],
   "source": [
    "realizar_compra_final()"
   ]
  },
  {
   "cell_type": "code",
   "execution_count": null,
   "id": "6f37e9da",
   "metadata": {},
   "outputs": [],
   "source": [
    "def make_sale():\n",
    "# 1. usa bucle 'while' para varias compras, comprueba que haya stock\n",
    "    for product in inventory: # definir diccionario local que itera con el inventario\n",
    "        while product['stock'] != 0: # el loop no esta cumpliendo esta condicion y solo itera con el primer diccionario solamente\n",
    "# 2. muestra inventario disponible\n",
    "            print(f'There are {product['stock']} pieces of \"{product['name']}\"') # imprime toda la lista // revisar: imprime solo el primer diccionario\n",
    "# 3. solicita el nombre al cliente, y cantidad\n",
    "# 4. registra los datos en un carrito\n",
    "            if product['stock'] != 0: # si hay stock en los productos\n",
    "                product_client = input('What product do you like to buy?') # pregunta al cliente que decida el producto de la lista mostrada\n",
    "                if product['name'] == product_client.capitalize(): # busca el diccionario donde coincide la entrada del usuario como clave\n",
    "                    amount_client = int(input('How many do you want to buy?')) # guarda la entrada del usuario en una variable local\n",
    "                    print(f'Shopping cart: \"{amount_client}\" of \"{product_client}\".') # imprime resumen de la compra en un carrito\n",
    "# 5. actualiza el inventario e imprime el inventario actualizado\n",
    "                if product['stock'] != 0:\n",
    "                    new_stock = amount_client \n",
    "                    product['stock'] -= new_stock # elimina del stock la cantidad que compro el usuario\n",
    "# 6. calcula el costo total del carrito / compra       \n",
    "                if product['name'] == product_client: # con la variable del producto/diccionario escogido por el usuario calculamos la compra\n",
    "                    precio = product['price'] \n",
    "                    precio_total = precio * amount_client\n",
    "                    print(f'El precio total es: ${precio_total}')\n",
    "            else:\n",
    "                print(f'There is not enough stock of \"{product_client}\".')       \n",
    "# 7. imprime inventario actualizado despues de la compra\n",
    "        return"
   ]
  }
 ],
 "metadata": {
  "kernelspec": {
   "display_name": "base",
   "language": "python",
   "name": "python3"
  },
  "language_info": {
   "codemirror_mode": {
    "name": "ipython",
    "version": 3
   },
   "file_extension": ".py",
   "mimetype": "text/x-python",
   "name": "python",
   "nbconvert_exporter": "python",
   "pygments_lexer": "ipython3",
   "version": "3.12.7"
  }
 },
 "nbformat": 4,
 "nbformat_minor": 5
}
